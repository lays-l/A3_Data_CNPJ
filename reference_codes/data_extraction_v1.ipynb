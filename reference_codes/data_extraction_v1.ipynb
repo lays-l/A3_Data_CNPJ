{
 "cells": [
  {
   "cell_type": "code",
   "execution_count": 1,
   "metadata": {},
   "outputs": [],
   "source": [
    "import yaml\n",
    "import requests\n",
    "from io import BytesIO\n",
    "import os\n",
    "import zipfile"
   ]
  },
  {
   "cell_type": "code",
   "execution_count": 2,
   "metadata": {},
   "outputs": [],
   "source": [
    "with open(\"file_links.yaml\", 'r') as stream:\n",
    "    try:\n",
    "        data = yaml.safe_load(stream)\n",
    "    except yaml.YAMLError as exc:\n",
    "        print(exc)"
   ]
  },
  {
   "cell_type": "code",
   "execution_count": 4,
   "metadata": {},
   "outputs": [
    {
     "data": {
      "text/plain": [
       "25"
      ]
     },
     "execution_count": 4,
     "metadata": {},
     "output_type": "execute_result"
    }
   ],
   "source": [
    "len(data[\"links\"])"
   ]
  },
  {
   "cell_type": "code",
   "execution_count": 3,
   "metadata": {},
   "outputs": [],
   "source": [
    "def download_file(url, path_os):\n",
    "    response = requests.get(url, stream=True)\n",
    "    if response.status_code == requests.codes.OK:\n",
    "        with open(path_os, 'wb') as new_file:\n",
    "                for part in response.iter_content(chunk_size=256):\n",
    "                    new_file.write(part)\n",
    "        print(f\"Download finalizado. Arquivo salvo em: {path_os}\")\n",
    "    else:\n",
    "        response.raise_for_status()"
   ]
  },
  {
   "cell_type": "code",
   "execution_count": null,
   "metadata": {},
   "outputs": [],
   "source": [
    "download_file(\"http://200.152.38.155/CNPJ/K3241.K03200Y1.D10814.EMPRECSV.zip\", \"C:/Users/lays.lima/Documents/teste\")"
   ]
  },
  {
   "cell_type": "code",
   "execution_count": null,
   "metadata": {},
   "outputs": [],
   "source": [
    "response = requests.get(\"http://200.152.38.155/CNPJ/K3241.K03200Y1.D10814.EMPRECSV.zip\", stream=True)"
   ]
  },
  {
   "cell_type": "code",
   "execution_count": 23,
   "metadata": {},
   "outputs": [
    {
     "ename": "PermissionError",
     "evalue": "[Errno 13] Permission denied: 'C:/Users/lays.lima/Documents/DS Estudos/A3_Data_Challenge_Sept/data/'",
     "output_type": "error",
     "traceback": [
      "\u001b[1;31m---------------------------------------------------------------------------\u001b[0m",
      "\u001b[1;31mPermissionError\u001b[0m                           Traceback (most recent call last)",
      "\u001b[1;32m~\\AppData\\Local\\Temp/ipykernel_28416/2394490905.py\u001b[0m in \u001b[0;36m<module>\u001b[1;34m\u001b[0m\n\u001b[1;32m----> 1\u001b[1;33m \u001b[1;32mwith\u001b[0m \u001b[0mopen\u001b[0m\u001b[1;33m(\u001b[0m\u001b[1;34m\"C:/Users/lays.lima/Documents/DS Estudos/A3_Data_Challenge_Sept/data/\"\u001b[0m\u001b[1;33m,\u001b[0m \u001b[1;34m'wb'\u001b[0m\u001b[1;33m)\u001b[0m \u001b[1;32mas\u001b[0m \u001b[0mnew_file\u001b[0m\u001b[1;33m:\u001b[0m\u001b[1;33m\u001b[0m\u001b[1;33m\u001b[0m\u001b[0m\n\u001b[0m\u001b[0;32m      2\u001b[0m         \u001b[0mnew_file\u001b[0m\u001b[1;33m.\u001b[0m\u001b[0mwrite\u001b[0m\u001b[1;33m(\u001b[0m\u001b[0mresponse\u001b[0m\u001b[1;33m.\u001b[0m\u001b[0mcontent\u001b[0m\u001b[1;33m)\u001b[0m\u001b[1;33m\u001b[0m\u001b[1;33m\u001b[0m\u001b[0m\n",
      "\u001b[1;31mPermissionError\u001b[0m: [Errno 13] Permission denied: 'C:/Users/lays.lima/Documents/DS Estudos/A3_Data_Challenge_Sept/data/'"
     ]
    }
   ],
   "source": [
    "with open(\"C:/Users/lays.lima/Documents/DS Estudos/A3_Data_Challenge_Sept/data/\", 'wb') as new_file:\n",
    "        new_file.write(response.content)"
   ]
  },
  {
   "cell_type": "code",
   "execution_count": 4,
   "metadata": {},
   "outputs": [],
   "source": [
    "url = \"http://200.152.38.155/CNPJ/K3241.K03200Y1.D10814.EMPRECSV.zip\""
   ]
  },
  {
   "cell_type": "code",
   "execution_count": 5,
   "metadata": {},
   "outputs": [],
   "source": [
    "filebytes = BytesIO(requests.get(url, stream=True).content)"
   ]
  },
  {
   "cell_type": "code",
   "execution_count": 7,
   "metadata": {},
   "outputs": [],
   "source": [
    "myzip = zipfile.ZipFile(filebytes)"
   ]
  },
  {
   "cell_type": "code",
   "execution_count": 8,
   "metadata": {},
   "outputs": [],
   "source": [
    "myzip.extractall(\"data/\")"
   ]
  },
  {
   "cell_type": "code",
   "execution_count": 3,
   "metadata": {},
   "outputs": [
    {
     "name": "stdout",
     "output_type": "stream",
     "text": [
      "downloading: downloading:  http://200.152.38.155/CNPJ/K3241.K03200Y3.D10814.EMPRECSV.zip\n",
      " downloading: downloading:  http://200.152.38.155/CNPJ/K3241.K03200Y2.D10814.EMPRECSV.zipdownloading:  http://200.152.38.155/CNPJ/K3241.K03200Y4.D10814.EMPRECSV.zip\n",
      " http://200.152.38.155/CNPJ/K3241.K03200Y6.D10814.EMPRECSV.zip\n",
      "downloading: \n",
      "downloading:  http://200.152.38.155/CNPJ/K3241.K03200Y5.D10814.EMPRECSV.ziphttp://200.152.38.155/CNPJ/K3241.K03200Y7.D10814.EMPRECSV.zip\n",
      "downloading:  \n",
      "downloading:  http://200.152.38.155/CNPJ/K3241.K03200Y1.D10814.ESTABELE.zip downloading:  http://200.152.38.155/CNPJ/K3241.K03200Y2.D10814.ESTABELE.zip\n",
      "http://200.152.38.155/CNPJ/K3241.K03200Y9.D10814.EMPRECSV.zipdownloading: http://200.152.38.155/CNPJ/K3241.K03200Y8.D10814.EMPRECSV.zip\n",
      "downloading:  \n",
      "downloading:  http://200.152.38.155/CNPJ/K3241.K03200Y3.D10814.ESTABELE.zip\n",
      " http://200.152.38.155/CNPJ/K3241.K03200Y5.D10814.ESTABELE.zip\n",
      "downloading:  http://200.152.38.155/CNPJ/K3241.K03200Y6.D10814.ESTABELE.zip\n",
      "http://200.152.38.155/CNPJ/K3241.K03200Y4.D10814.ESTABELE.zipdownloading:  http://200.152.38.155/CNPJ/K3241.K03200Y7.D10814.ESTABELE.zip\n",
      "\n",
      "\n",
      "downloading:  http://200.152.38.155/CNPJ/K3241.K03200Y8.D10814.ESTABELE.zip\n",
      "downloading: downloading:   downloading:  http://200.152.38.155/CNPJ/K3241.K03200Y2.D10814.SOCIOCSV.ziphttp://200.152.38.155/CNPJ/K3241.K03200Y1.D10814.SOCIOCSV.ziphttp://200.152.38.155/CNPJ/K3241.K03200Y9.D10814.ESTABELE.zip\n",
      "\n",
      "downloading: \n",
      "downloading:  http://200.152.38.155/CNPJ/K3241.K03200Y4.D10814.SOCIOCSV.zip\n",
      "downloading: downloading: downloading:  http://200.152.38.155/CNPJ/K3241.K03200Y7.D10814.SOCIOCSV.zipdownloading:  http://200.152.38.155/CNPJ/K3241.K03200Y8.D10814.SOCIOCSV.zip\n",
      "  downloading: \n",
      " http://200.152.38.155/CNPJ/K3241.K03200Y3.D10814.SOCIOCSV.zip http://200.152.38.155/CNPJ/K3241.K03200Y6.D10814.SOCIOCSV.zip\n",
      "\n",
      "http://200.152.38.155/CNPJ/K3241.K03200Y9.D10814.SOCIOCSV.ziphttp://200.152.38.155/CNPJ/K3241.K03200Y5.D10814.SOCIOCSV.zip\n",
      "\n",
      "http://200.152.38.155/CNPJ/K3241.K03200Y6.D10814.SOCIOCSV.zip\n",
      "http://200.152.38.155/CNPJ/K3241.K03200Y1.D10814.SOCIOCSV.zip\n",
      "http://200.152.38.155/CNPJ/K3241.K03200Y4.D10814.SOCIOCSV.zip\n",
      "http://200.152.38.155/CNPJ/K3241.K03200Y7.D10814.SOCIOCSV.zip\n",
      "http://200.152.38.155/CNPJ/K3241.K03200Y9.D10814.SOCIOCSV.zip\n",
      "http://200.152.38.155/CNPJ/K3241.K03200Y8.D10814.SOCIOCSV.zip\n",
      "http://200.152.38.155/CNPJ/K3241.K03200Y6.D10814.EMPRECSV.zip\n",
      "http://200.152.38.155/CNPJ/K3241.K03200Y9.D10814.EMPRECSV.zip\n",
      "http://200.152.38.155/CNPJ/K3241.K03200Y2.D10814.SOCIOCSV.zip\n",
      "http://200.152.38.155/CNPJ/K3241.K03200Y5.D10814.EMPRECSV.zip\n",
      "http://200.152.38.155/CNPJ/K3241.K03200Y3.D10814.SOCIOCSV.zip\n",
      "http://200.152.38.155/CNPJ/K3241.K03200Y2.D10814.EMPRECSV.zip\n",
      "http://200.152.38.155/CNPJ/K3241.K03200Y5.D10814.SOCIOCSV.zip\n",
      "http://200.152.38.155/CNPJ/K3241.K03200Y7.D10814.EMPRECSV.zip\n",
      "http://200.152.38.155/CNPJ/K3241.K03200Y3.D10814.EMPRECSV.zip\n",
      "http://200.152.38.155/CNPJ/K3241.K03200Y4.D10814.EMPRECSV.zip\n",
      "http://200.152.38.155/CNPJ/K3241.K03200Y8.D10814.EMPRECSV.zip\n",
      "http://200.152.38.155/CNPJ/K3241.K03200Y6.D10814.ESTABELE.zip\n",
      "http://200.152.38.155/CNPJ/K3241.K03200Y2.D10814.ESTABELE.zip\n",
      "http://200.152.38.155/CNPJ/K3241.K03200Y3.D10814.ESTABELE.zip\n",
      "http://200.152.38.155/CNPJ/K3241.K03200Y1.D10814.ESTABELE.zip\n",
      "http://200.152.38.155/CNPJ/K3241.K03200Y7.D10814.ESTABELE.zip\n",
      "http://200.152.38.155/CNPJ/K3241.K03200Y8.D10814.ESTABELE.zip\n",
      "http://200.152.38.155/CNPJ/K3241.K03200Y5.D10814.ESTABELE.zip\n",
      "http://200.152.38.155/CNPJ/K3241.K03200Y4.D10814.ESTABELE.zip\n",
      "http://200.152.38.155/CNPJ/K3241.K03200Y9.D10814.ESTABELE.zip\n"
     ]
    }
   ],
   "source": [
    "import requests\n",
    "from multiprocessing.pool import ThreadPool\n",
    " \n",
    "def download_url(url):\n",
    "  print(\"downloading: \",url)\n",
    "  file_name_start_pos = url.rfind(\"/\") + 1\n",
    "  file_name = url[file_name_start_pos:]\n",
    " \n",
    "  r = requests.get(url, stream=True)\n",
    "  if r.status_code == requests.codes.ok:\n",
    "    with open(\"data/\" + file_name, 'wb') as f:\n",
    "      for data in r:\n",
    "        f.write(data)\n",
    "  return url\n",
    " \n",
    "with open(\"teste.yaml\", 'r') as stream:\n",
    "    try:\n",
    "        data = yaml.safe_load(stream)\n",
    "    except yaml.YAMLError as exc:\n",
    "        print(exc)\n",
    "\n",
    "urls = data[\"links\"]\n",
    " \n",
    "# Run 5 multiple threads. Each call will take the next element in urls list\n",
    "results = ThreadPool(len(data[\"links\"])).imap_unordered(download_url, urls)\n",
    "for r in results:\n",
    "    print(r)"
   ]
  },
  {
   "cell_type": "markdown",
   "metadata": {},
   "source": [
    "# Retornar os links da página do governo"
   ]
  },
  {
   "cell_type": "code",
   "execution_count": null,
   "metadata": {},
   "outputs": [],
   "source": [
    "import httplib2\n",
    "from bs4 import BeautifulSoup, SoupStrainer\n",
    "\n",
    "http = httplib2.Http()\n",
    "status, response = http.request('https://www.gov.br/receitafederal/pt-br/assuntos/orientacao-tributaria/cadastros/consultas/dados-publicos-cnpj')\n",
    "\n",
    "\n",
    "for link in BeautifulSoup(response, 'html.parser',\n",
    "                             parseOnlyThese=SoupStrainer('a')):\n",
    "    if link.has_attr('href'):\n",
    "        print(link['href'])"
   ]
  },
  {
   "cell_type": "markdown",
   "metadata": {},
   "source": [
    "# Usando spark"
   ]
  },
  {
   "cell_type": "code",
   "execution_count": 1,
   "metadata": {},
   "outputs": [],
   "source": [
    "from pyspark.sql import SparkSession\n",
    "import pandas as pd\n",
    "import numpy as np\n",
    "import dask.dataframe as dd\n",
    "\n",
    "#spark = SparkSession.builder.appName('PySpark Column Ops').config(\"spark.sql.repl.eagerEval.enabled\", True).getOrCreate()\n",
    "\n",
    "col_empresas = [\"CNPJ\", \"Razao_Social\", \"Natureza_Juridica\", \"Qualificacao_do_Responsavel\", \"Capital_Social\", \"Porte\", \"Ente_Federativo_Responsavel\"]\n",
    "col_estabelecimentos = [\"CNPJ_Basico\", \"CNPJ_Ordem\", \"CNPJ_DV\", \"Identificador\", \"Nome_Fantasia\", \"Situacao_Cadastral\", \"Data_Situacao_Cadastral\", \n",
    "                        \"Motivo_Situacao_Cadastral\", \"Nome_Cidade_Exterior\", \"Pais\", \"Data_Inicio_Atividad\", \"CNAE_Fiscal_Principal\", \"CNAE_Fiscal_Secundaria\",\n",
    "                        \"Tipo_Logradouro\", \"Logradouro\", \"Numero\", \"Complemento\", \"Bairro\", \"CEP\", \"UF\", \"Municipio\", \"DDD_1\", \"Telefone_1\", \"DDD_2\", \"Telefone_2\", \n",
    "                        \"DDD_Fax\", \"Fax\", \"Correio_Eletronico\", \"Situacao_Especial\", \"Data_Situacao_Especial\"]"
   ]
  },
  {
   "cell_type": "markdown",
   "metadata": {},
   "source": [
    "# Tratamento dos arquivos de Empresas\n",
    "## Adicionando arquivos ao DataFrame"
   ]
  },
  {
   "cell_type": "code",
   "execution_count": 16,
   "metadata": {},
   "outputs": [],
   "source": [
    "# Lê todos os arquivos passados como parâmetro, utilizando o dask\n",
    "df_empresa = dd.read_csv('data/extract/*.EMPRECSV', delimiter=';', encoding='latin1', low_memory=False, dtype=str, names=col_empresas)"
   ]
  },
  {
   "cell_type": "code",
   "execution_count": 17,
   "metadata": {},
   "outputs": [
    {
     "data": {
      "text/html": [
       "<div>\n",
       "<style scoped>\n",
       "    .dataframe tbody tr th:only-of-type {\n",
       "        vertical-align: middle;\n",
       "    }\n",
       "\n",
       "    .dataframe tbody tr th {\n",
       "        vertical-align: top;\n",
       "    }\n",
       "\n",
       "    .dataframe thead th {\n",
       "        text-align: right;\n",
       "    }\n",
       "</style>\n",
       "<table border=\"1\" class=\"dataframe\">\n",
       "  <thead>\n",
       "    <tr style=\"text-align: right;\">\n",
       "      <th></th>\n",
       "      <th>CNPJ</th>\n",
       "      <th>Razao_Social</th>\n",
       "      <th>Natureza_Juridica</th>\n",
       "      <th>Qualificacao_do_Responsavel</th>\n",
       "      <th>Capital_Social</th>\n",
       "      <th>Porte</th>\n",
       "      <th>Ente_Federativo_Responsavel</th>\n",
       "    </tr>\n",
       "  </thead>\n",
       "  <tbody>\n",
       "    <tr>\n",
       "      <th>0</th>\n",
       "      <td>41273605</td>\n",
       "      <td>WALLACE DE OLIVEIRA SILVA 42992101826</td>\n",
       "      <td>2135</td>\n",
       "      <td>50</td>\n",
       "      <td>1000,00</td>\n",
       "      <td>01</td>\n",
       "      <td>NaN</td>\n",
       "    </tr>\n",
       "    <tr>\n",
       "      <th>1</th>\n",
       "      <td>41273606</td>\n",
       "      <td>MARCOS CESAR DE MELO JUNIOR 02569327190</td>\n",
       "      <td>2135</td>\n",
       "      <td>50</td>\n",
       "      <td>72000,00</td>\n",
       "      <td>01</td>\n",
       "      <td>NaN</td>\n",
       "    </tr>\n",
       "    <tr>\n",
       "      <th>2</th>\n",
       "      <td>41273607</td>\n",
       "      <td>LAYANE SCARLETT DE SOUZA ARAUJO 07071498199</td>\n",
       "      <td>2135</td>\n",
       "      <td>50</td>\n",
       "      <td>1,00</td>\n",
       "      <td>01</td>\n",
       "      <td>NaN</td>\n",
       "    </tr>\n",
       "    <tr>\n",
       "      <th>3</th>\n",
       "      <td>41273608</td>\n",
       "      <td>FRANCISCA SAMPAIO DE OLIVEIRA</td>\n",
       "      <td>2135</td>\n",
       "      <td>50</td>\n",
       "      <td>0,00</td>\n",
       "      <td>01</td>\n",
       "      <td>NaN</td>\n",
       "    </tr>\n",
       "    <tr>\n",
       "      <th>4</th>\n",
       "      <td>41273609</td>\n",
       "      <td>INGRID DIAS ALVES 03151432077</td>\n",
       "      <td>2135</td>\n",
       "      <td>50</td>\n",
       "      <td>10000,00</td>\n",
       "      <td>01</td>\n",
       "      <td>NaN</td>\n",
       "    </tr>\n",
       "  </tbody>\n",
       "</table>\n",
       "</div>"
      ],
      "text/plain": [
       "       CNPJ                                 Razao_Social Natureza_Juridica  \\\n",
       "0  41273605        WALLACE DE OLIVEIRA SILVA 42992101826              2135   \n",
       "1  41273606      MARCOS CESAR DE MELO JUNIOR 02569327190              2135   \n",
       "2  41273607  LAYANE SCARLETT DE SOUZA ARAUJO 07071498199              2135   \n",
       "3  41273608                FRANCISCA SAMPAIO DE OLIVEIRA              2135   \n",
       "4  41273609                INGRID DIAS ALVES 03151432077              2135   \n",
       "\n",
       "  Qualificacao_do_Responsavel Capital_Social Porte Ente_Federativo_Responsavel  \n",
       "0                          50        1000,00    01                         NaN  \n",
       "1                          50       72000,00    01                         NaN  \n",
       "2                          50           1,00    01                         NaN  \n",
       "3                          50           0,00    01                         NaN  \n",
       "4                          50       10000,00    01                         NaN  "
      ]
     },
     "execution_count": 17,
     "metadata": {},
     "output_type": "execute_result"
    }
   ],
   "source": [
    "df_empresa.head()"
   ]
  },
  {
   "cell_type": "markdown",
   "metadata": {},
   "source": [
    "## Tratamento da coluna Capital Social"
   ]
  },
  {
   "cell_type": "code",
   "execution_count": 18,
   "metadata": {},
   "outputs": [],
   "source": [
    "df_empresa['Capital_Social'] = df_empresa['Capital_Social'].map(lambda x: x.replace(',','.'))\n",
    "df_empresa['Capital_Social'] = dd.to_numeric(df_empresa['Capital_Social'], errors='coerce')"
   ]
  },
  {
   "cell_type": "markdown",
   "metadata": {},
   "source": [
    "## Preenchendo os valores NA da coluna Porte com 01 = Não informado"
   ]
  },
  {
   "cell_type": "code",
   "execution_count": 19,
   "metadata": {},
   "outputs": [],
   "source": [
    "df_empresa['Porte'] = df_empresa['Porte'].fillna(value='01')"
   ]
  },
  {
   "cell_type": "code",
   "execution_count": 20,
   "metadata": {},
   "outputs": [
    {
     "data": {
      "text/plain": [
       "0    01\n",
       "1    03\n",
       "2    05\n",
       "Name: Porte, dtype: object"
      ]
     },
     "execution_count": 20,
     "metadata": {},
     "output_type": "execute_result"
    }
   ],
   "source": [
    "df_empresa['Porte'].unique().compute()"
   ]
  },
  {
   "cell_type": "code",
   "execution_count": 8,
   "metadata": {},
   "outputs": [
    {
     "data": {
      "text/plain": [
       "CNPJ                                  0\n",
       "Razao_Social                          0\n",
       "Natureza_Juridica                     0\n",
       "Qualificacao_do_Responsavel           0\n",
       "Capital_Social                        0\n",
       "Porte                             60627\n",
       "Ente_Federativo_Responsavel    46846713\n",
       "dtype: int64"
      ]
     },
     "execution_count": 8,
     "metadata": {},
     "output_type": "execute_result"
    }
   ],
   "source": [
    "df_empresa.isnull().sum().compute()"
   ]
  },
  {
   "cell_type": "markdown",
   "metadata": {},
   "source": [
    "# Manipulação dos dados de Estabelecimentos"
   ]
  },
  {
   "cell_type": "code",
   "execution_count": 2,
   "metadata": {},
   "outputs": [],
   "source": [
    "df_estab = dd.read_csv('data/extract/*.ESTABELE', delimiter=';', encoding='latin1', low_memory=False, dtype=str, names=col_estabelecimentos)"
   ]
  },
  {
   "cell_type": "code",
   "execution_count": 42,
   "metadata": {},
   "outputs": [],
   "source": [
    "# df_estab[\"CNPJ_Ordem\"] = df_estab[\"CNPJ_Ordem\"].astype(str).apply(lambda x: x.zfill(4)) # preenche os campos com zeros a esquerda até completar 4 caracteres\n",
    "# df_estab[\"CNPJ_DV\"] = df_estab[\"CNPJ_DV\"].astype(str).apply(lambda x: x.zfill(2))"
   ]
  },
  {
   "cell_type": "markdown",
   "metadata": {},
   "source": [
    "## Altera para 999 os valores nulos da coluna País"
   ]
  },
  {
   "cell_type": "code",
   "execution_count": 4,
   "metadata": {},
   "outputs": [],
   "source": [
    "df_estab['Pais'] = df_estab['Pais'].fillna(value='999')"
   ]
  },
  {
   "cell_type": "markdown",
   "metadata": {},
   "source": [
    "## Adicionando a coluna CNPJ concatenando as informações do CNPJ Basico, CNPJ Ordem e CNPJ DV"
   ]
  },
  {
   "cell_type": "code",
   "execution_count": 7,
   "metadata": {},
   "outputs": [],
   "source": [
    "cnpjs = (df_estab[\"CNPJ_Basico\"].astype(str).apply(lambda x: x.zfill(8), meta=('CNPJ_Basico', str)) + \n",
    "        df_estab[\"CNPJ_Ordem\"].astype(str).apply(lambda x: x.zfill(4), meta=('CNPJ_Ordem', str)) + \n",
    "        df_estab[\"CNPJ_DV\"].astype(str).apply(lambda x: x.zfill(2), meta=('CNPJ_DV', str)))\n",
    "\n",
    "df_estab['CNPJ'] = cnpjs"
   ]
  },
  {
   "cell_type": "code",
   "execution_count": 5,
   "metadata": {},
   "outputs": [
    {
     "data": {
      "text/plain": [
       "0      999\n",
       "1      445\n",
       "2      158\n",
       "3      137\n",
       "4      249\n",
       "      ... \n",
       "191    464\n",
       "192    165\n",
       "193    833\n",
       "194    824\n",
       "195    494\n",
       "Name: Pais, Length: 196, dtype: object"
      ]
     },
     "execution_count": 5,
     "metadata": {},
     "output_type": "execute_result"
    }
   ],
   "source": [
    "# df_estab.insert(0, \"CNPJ\", cnpjs, True) # insere a coluna CNPJ na primeira posição - não funciona pra \n",
    "df_estab['Pais'].unique().compute()"
   ]
  },
  {
   "cell_type": "code",
   "execution_count": 8,
   "metadata": {},
   "outputs": [
    {
     "data": {
      "text/html": [
       "<div>\n",
       "<style scoped>\n",
       "    .dataframe tbody tr th:only-of-type {\n",
       "        vertical-align: middle;\n",
       "    }\n",
       "\n",
       "    .dataframe tbody tr th {\n",
       "        vertical-align: top;\n",
       "    }\n",
       "\n",
       "    .dataframe thead th {\n",
       "        text-align: right;\n",
       "    }\n",
       "</style>\n",
       "<table border=\"1\" class=\"dataframe\">\n",
       "  <thead>\n",
       "    <tr style=\"text-align: right;\">\n",
       "      <th></th>\n",
       "      <th>CNPJ_Basico</th>\n",
       "      <th>CNPJ_Ordem</th>\n",
       "      <th>CNPJ_DV</th>\n",
       "      <th>Identificador</th>\n",
       "      <th>Nome_Fantasia</th>\n",
       "      <th>Situacao_Cadastral</th>\n",
       "      <th>Data_Situacao_Cadastral</th>\n",
       "      <th>Motivo_Situacao_Cadastral</th>\n",
       "      <th>Nome_Cidade_Exterior</th>\n",
       "      <th>Pais</th>\n",
       "      <th>...</th>\n",
       "      <th>DDD_1</th>\n",
       "      <th>Telefone_1</th>\n",
       "      <th>DDD_2</th>\n",
       "      <th>Telefone_2</th>\n",
       "      <th>DDD_Fax</th>\n",
       "      <th>Fax</th>\n",
       "      <th>Correio_Eletronico</th>\n",
       "      <th>Situacao_Especial</th>\n",
       "      <th>Data_Situacao_Especial</th>\n",
       "      <th>CNPJ</th>\n",
       "    </tr>\n",
       "  </thead>\n",
       "  <tbody>\n",
       "    <tr>\n",
       "      <th>0</th>\n",
       "      <td>25084884</td>\n",
       "      <td>0001</td>\n",
       "      <td>30</td>\n",
       "      <td>1</td>\n",
       "      <td>INSTEC</td>\n",
       "      <td>08</td>\n",
       "      <td>20180427</td>\n",
       "      <td>01</td>\n",
       "      <td>NaN</td>\n",
       "      <td>999</td>\n",
       "      <td>...</td>\n",
       "      <td>38</td>\n",
       "      <td>98099427</td>\n",
       "      <td>NaN</td>\n",
       "      <td>NaN</td>\n",
       "      <td>NaN</td>\n",
       "      <td>NaN</td>\n",
       "      <td>wellervinicius@hotmail.com</td>\n",
       "      <td>NaN</td>\n",
       "      <td>NaN</td>\n",
       "      <td>25084884000130</td>\n",
       "    </tr>\n",
       "    <tr>\n",
       "      <th>1</th>\n",
       "      <td>25084895</td>\n",
       "      <td>0001</td>\n",
       "      <td>10</td>\n",
       "      <td>1</td>\n",
       "      <td>RANCHO DO ESPETINHO</td>\n",
       "      <td>08</td>\n",
       "      <td>20170720</td>\n",
       "      <td>01</td>\n",
       "      <td>NaN</td>\n",
       "      <td>999</td>\n",
       "      <td>...</td>\n",
       "      <td>27</td>\n",
       "      <td>97629715</td>\n",
       "      <td>NaN</td>\n",
       "      <td>NaN</td>\n",
       "      <td>NaN</td>\n",
       "      <td>NaN</td>\n",
       "      <td>NaN</td>\n",
       "      <td>NaN</td>\n",
       "      <td>NaN</td>\n",
       "      <td>25084895000110</td>\n",
       "    </tr>\n",
       "    <tr>\n",
       "      <th>2</th>\n",
       "      <td>25084907</td>\n",
       "      <td>0001</td>\n",
       "      <td>07</td>\n",
       "      <td>1</td>\n",
       "      <td>FATIMA COSTURA</td>\n",
       "      <td>02</td>\n",
       "      <td>20160628</td>\n",
       "      <td>00</td>\n",
       "      <td>NaN</td>\n",
       "      <td>999</td>\n",
       "      <td>...</td>\n",
       "      <td>44</td>\n",
       "      <td>97179615</td>\n",
       "      <td>NaN</td>\n",
       "      <td>NaN</td>\n",
       "      <td>NaN</td>\n",
       "      <td>NaN</td>\n",
       "      <td>FERREIRADOSANTOSSILVAFATIMA@GMAIL.COM</td>\n",
       "      <td>NaN</td>\n",
       "      <td>NaN</td>\n",
       "      <td>25084907000107</td>\n",
       "    </tr>\n",
       "    <tr>\n",
       "      <th>3</th>\n",
       "      <td>00892104</td>\n",
       "      <td>0003</td>\n",
       "      <td>10</td>\n",
       "      <td>2</td>\n",
       "      <td>NaN</td>\n",
       "      <td>02</td>\n",
       "      <td>20160628</td>\n",
       "      <td>00</td>\n",
       "      <td>NaN</td>\n",
       "      <td>999</td>\n",
       "      <td>...</td>\n",
       "      <td>45</td>\n",
       "      <td>32241100</td>\n",
       "      <td>NaN</td>\n",
       "      <td>NaN</td>\n",
       "      <td>NaN</td>\n",
       "      <td>NaN</td>\n",
       "      <td>NaN</td>\n",
       "      <td>NaN</td>\n",
       "      <td>NaN</td>\n",
       "      <td>00892104000310</td>\n",
       "    </tr>\n",
       "    <tr>\n",
       "      <th>4</th>\n",
       "      <td>25084929</td>\n",
       "      <td>0001</td>\n",
       "      <td>77</td>\n",
       "      <td>1</td>\n",
       "      <td>NaN</td>\n",
       "      <td>04</td>\n",
       "      <td>20210225</td>\n",
       "      <td>63</td>\n",
       "      <td>NaN</td>\n",
       "      <td>999</td>\n",
       "      <td>...</td>\n",
       "      <td>51</td>\n",
       "      <td>98243624</td>\n",
       "      <td>NaN</td>\n",
       "      <td>NaN</td>\n",
       "      <td>NaN</td>\n",
       "      <td>NaN</td>\n",
       "      <td>NaN</td>\n",
       "      <td>NaN</td>\n",
       "      <td>NaN</td>\n",
       "      <td>25084929000177</td>\n",
       "    </tr>\n",
       "  </tbody>\n",
       "</table>\n",
       "<p>5 rows × 31 columns</p>\n",
       "</div>"
      ],
      "text/plain": [
       "  CNPJ_Basico CNPJ_Ordem CNPJ_DV Identificador        Nome_Fantasia  \\\n",
       "0    25084884       0001      30             1               INSTEC   \n",
       "1    25084895       0001      10             1  RANCHO DO ESPETINHO   \n",
       "2    25084907       0001      07             1       FATIMA COSTURA   \n",
       "3    00892104       0003      10             2                  NaN   \n",
       "4    25084929       0001      77             1                  NaN   \n",
       "\n",
       "  Situacao_Cadastral Data_Situacao_Cadastral Motivo_Situacao_Cadastral  \\\n",
       "0                 08                20180427                        01   \n",
       "1                 08                20170720                        01   \n",
       "2                 02                20160628                        00   \n",
       "3                 02                20160628                        00   \n",
       "4                 04                20210225                        63   \n",
       "\n",
       "  Nome_Cidade_Exterior Pais  ... DDD_1 Telefone_1 DDD_2 Telefone_2 DDD_Fax  \\\n",
       "0                  NaN  999  ...    38   98099427   NaN        NaN     NaN   \n",
       "1                  NaN  999  ...    27   97629715   NaN        NaN     NaN   \n",
       "2                  NaN  999  ...    44   97179615   NaN        NaN     NaN   \n",
       "3                  NaN  999  ...    45   32241100   NaN        NaN     NaN   \n",
       "4                  NaN  999  ...    51   98243624   NaN        NaN     NaN   \n",
       "\n",
       "   Fax                     Correio_Eletronico Situacao_Especial  \\\n",
       "0  NaN             wellervinicius@hotmail.com               NaN   \n",
       "1  NaN                                    NaN               NaN   \n",
       "2  NaN  FERREIRADOSANTOSSILVAFATIMA@GMAIL.COM               NaN   \n",
       "3  NaN                                    NaN               NaN   \n",
       "4  NaN                                    NaN               NaN   \n",
       "\n",
       "  Data_Situacao_Especial            CNPJ  \n",
       "0                    NaN  25084884000130  \n",
       "1                    NaN  25084895000110  \n",
       "2                    NaN  25084907000107  \n",
       "3                    NaN  00892104000310  \n",
       "4                    NaN  25084929000177  \n",
       "\n",
       "[5 rows x 31 columns]"
      ]
     },
     "execution_count": 8,
     "metadata": {},
     "output_type": "execute_result"
    }
   ],
   "source": [
    "df_estab.head(5)"
   ]
  },
  {
   "cell_type": "code",
   "execution_count": 6,
   "metadata": {},
   "outputs": [
    {
     "data": {
      "text/plain": [
       "CNPJ_Basico                         0\n",
       "CNPJ_Ordem                          0\n",
       "CNPJ_DV                             0\n",
       "Identificador                       0\n",
       "Nome_Fantasia                18965090\n",
       "Situacao_Cadastral                  0\n",
       "Data_Situacao_Cadastral             0\n",
       "Motivo_Situacao_Cadastral           0\n",
       "Nome_Cidade_Exterior         45837310\n",
       "Pais                                0\n",
       "Data_Inicio_Atividad                0\n",
       "CNAE_Fiscal_Principal               0\n",
       "CNAE_Fiscal_Secundaria       26446794\n",
       "Tipo_Logradouro                889492\n",
       "Logradouro                       1991\n",
       "Numero                           1660\n",
       "Complemento                  26835630\n",
       "Bairro                         369210\n",
       "CEP                            138985\n",
       "UF                                  1\n",
       "Municipio                           1\n",
       "DDD_1                        12186217\n",
       "Telefone_1                   12186165\n",
       "DDD_2                        42091058\n",
       "Telefone_2                   42097566\n",
       "DDD_Fax                      39366835\n",
       "Fax                          39362211\n",
       "Correio_Eletronico           21658045\n",
       "Situacao_Especial            45862104\n",
       "Data_Situacao_Especial       45862104\n",
       "CNPJ                                0\n",
       "dtype: int64"
      ]
     },
     "execution_count": 6,
     "metadata": {},
     "output_type": "execute_result"
    }
   ],
   "source": [
    "# df_estab[df_estab.duplicated([\"CNPJ_Basico\"], keep=False)].CNPJ_Basico.unique()\n",
    "# df[df.duplicated([\"Nome_Fantasia\"], keep=False)].Nome_Fantasia.unique() #retorna os valores unicos que são duplicados na coluna informada\n",
    "df_estab.isnull().sum().compute()"
   ]
  },
  {
   "cell_type": "code",
   "execution_count": null,
   "metadata": {},
   "outputs": [],
   "source": [
    "# df.loc[(df[\"Nome_Fantasia\"] == \"CIA DO SORRISO\")] # retorna os registros onde o nome fantasia é igual ao valor informado\n",
    "# df_estab.loc[(df_estab[\"CNPJ_Basico\"] == 17069509)]"
   ]
  },
  {
   "cell_type": "code",
   "execution_count": null,
   "metadata": {},
   "outputs": [],
   "source": [
    "df_estab.loc[(df_estab[\"Pais\"] != 105)]"
   ]
  },
  {
   "cell_type": "code",
   "execution_count": 4,
   "metadata": {},
   "outputs": [],
   "source": [
    "# df = spark.read.csv('data/extract/*.ESTABELE', sep = ';', inferSchema = True, header = True)\n",
    "# df.createOrReplaceTempView spark.sql()"
   ]
  },
  {
   "cell_type": "code",
   "execution_count": null,
   "metadata": {},
   "outputs": [],
   "source": []
  }
 ],
 "metadata": {
  "interpreter": {
   "hash": "d1678312ba1ea9aec5d2fa5e059815f637844f0d2bb281feb437b6cf7d563b2b"
  },
  "kernelspec": {
   "display_name": "Python 3.9.2 64-bit",
   "name": "python3"
  },
  "language_info": {
   "codemirror_mode": {
    "name": "ipython",
    "version": 3
   },
   "file_extension": ".py",
   "mimetype": "text/x-python",
   "name": "python",
   "nbconvert_exporter": "python",
   "pygments_lexer": "ipython3",
   "version": "3.9.7"
  },
  "orig_nbformat": 4
 },
 "nbformat": 4,
 "nbformat_minor": 2
}
