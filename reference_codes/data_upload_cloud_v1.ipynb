{
 "cells": [
  {
   "cell_type": "code",
   "execution_count": 1,
   "source": [
    "from google.cloud import bigquery\r\n",
    "import os"
   ],
   "outputs": [],
   "metadata": {}
  },
  {
   "cell_type": "code",
   "execution_count": 2,
   "source": [
    "os.environ[\"GOOGLE_APPLICATION_CREDENTIALS\"]=\"auth/dados-publicos-326316-e16540376290.json\""
   ],
   "outputs": [],
   "metadata": {}
  },
  {
   "cell_type": "markdown",
   "source": [
    "# Salvando do GCS para o BigQuery"
   ],
   "metadata": {}
  },
  {
   "cell_type": "code",
   "execution_count": 3,
   "source": [
    "def upload_to_bigquery(client, directory, dataset):\r\n",
    "  dataset_id= f\"{client.project}.{dataset}\"\r\n",
    "  table_id = f\"{dataset_id}.{directory}\" # Set table_id to the ID of the table to create.\r\n",
    "\r\n",
    "  job_config = bigquery.LoadJobConfig(source_format=bigquery.SourceFormat.PARQUET,)\r\n",
    "  uri = f\"gs://dna_public_cnpj_files/trusted_parquet/{directory}/*.parquet\"\r\n",
    "\r\n",
    "  load_job = client.load_table_from_uri(\r\n",
    "      uri, table_id, job_config=job_config\r\n",
    "  )  # Make an API request.\r\n",
    "  load_job.result()  # Waits for the job to complete.\r\n",
    "\r\n",
    "  destination_table = client.get_table(table_id)\r\n",
    "  print(f\"Loaded {destination_table.num_rows} rows into table {directory}.\")"
   ],
   "outputs": [],
   "metadata": {}
  },
  {
   "cell_type": "code",
   "execution_count": 4,
   "source": [
    "client = bigquery.Client()\r\n",
    "dirs = [\"estabelecimento\", \"cnae\", \"empresa\", \"municipio\", \"nat_juridica\", \"pais\", \"simples\"]\r\n",
    "dataset = \"dna_dataset\"\r\n",
    "\r\n",
    "for d in dirs:\r\n",
    "  upload_to_bigquery(client, d, dataset)"
   ],
   "outputs": [
    {
     "output_type": "stream",
     "name": "stdout",
     "text": [
      "Loaded 49549311 rows into table estabelecimento.\n",
      "Loaded 1359 rows into table cnae.\n",
      "Loaded 46906616 rows into table empresa.\n",
      "Loaded 5571 rows into table municipio.\n",
      "Loaded 88 rows into table nat_juridica.\n",
      "Loaded 255 rows into table pais.\n",
      "Loaded 28925678 rows into table simples.\n"
     ]
    }
   ],
   "metadata": {}
  }
 ],
 "metadata": {
  "orig_nbformat": 4,
  "language_info": {
   "name": "python",
   "version": "3.9.2",
   "mimetype": "text/x-python",
   "codemirror_mode": {
    "name": "ipython",
    "version": 3
   },
   "pygments_lexer": "ipython3",
   "nbconvert_exporter": "python",
   "file_extension": ".py"
  },
  "kernelspec": {
   "name": "python3",
   "display_name": "Python 3.9.2 64-bit"
  },
  "interpreter": {
   "hash": "d1678312ba1ea9aec5d2fa5e059815f637844f0d2bb281feb437b6cf7d563b2b"
  }
 },
 "nbformat": 4,
 "nbformat_minor": 2
}