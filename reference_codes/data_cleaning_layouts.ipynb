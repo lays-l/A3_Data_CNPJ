{
 "cells": [
  {
   "cell_type": "code",
   "execution_count": 23,
   "source": [
    "import dask.dataframe as dd\r\n",
    "import pandas as pd\r\n",
    "\r\n",
    "path_files = \"data/layouts/\"\r\n",
    "\r\n",
    "# Define os nomes das colunas das tabelas\r\n",
    "col_simples = ['CNPJ_Basico', 'Opcao_Simples', 'Data_Opcao_Simples', 'Data_Exclusao_Simples', 'Opcao_MEI', 'Data_Opcao_MEI', 'Data_Exclusao_MEI']\r\n",
    "col_default = ['Codigo', 'Descricao']"
   ],
   "outputs": [],
   "metadata": {}
  },
  {
   "cell_type": "code",
   "execution_count": 24,
   "source": [
    "df_simples = dd.read_csv(f'{path_files}*.SIMPLES.CSV*.zip', delimiter=';', encoding='latin1', low_memory=False, dtype=str, names=col_simples, blocksize=None)\r\n",
    "df_cnae = dd.read_csv(f'{path_files}*.CNAECSV.zip', delimiter=';', encoding='latin1', low_memory=False, dtype=str, names=col_default, blocksize=None)\r\n",
    "df_municipio = dd.read_csv(f'{path_files}*.MUNICCSV.zip', delimiter=';', encoding='latin1', low_memory=False, dtype=str, names=col_default, blocksize=None)\r\n",
    "df_natureza = dd.read_csv(f'{path_files}*.NATJUCSV.zip', delimiter=';', encoding='latin1', low_memory=False, dtype=str, names=col_default, blocksize=None)\r\n",
    "df_pais = dd.read_csv(f'{path_files}*.PAISCSV.zip', delimiter=';', encoding='latin1', low_memory=False, dtype=str, names=col_default, blocksize=None)\r\n"
   ],
   "outputs": [],
   "metadata": {}
  },
  {
   "cell_type": "code",
   "execution_count": 25,
   "source": [
    "# reparticiona para reduzir o tamanho dos arquivos parquet\r\n",
    "df_simples = df_simples.repartition(npartitions=3)"
   ],
   "outputs": [],
   "metadata": {}
  },
  {
   "cell_type": "code",
   "execution_count": null,
   "source": [
    "df_simples['Data_Opcao_Simples'] = pd.to_datetime(df_simples['Data_Opcao_Simples'], errors='coerce')"
   ],
   "outputs": [],
   "metadata": {}
  },
  {
   "cell_type": "code",
   "execution_count": 17,
   "source": [
    "df_simples['Data_Opcao_Simples'] = df_simples['Data_Opcao_Simples'].replace([\"00000000\"], None)\r\n",
    "df_simples['Data_Exclusao_Simples'] = df_simples['Data_Exclusao_Simples'].replace([\"00000000\"], None)\r\n",
    "df_simples['Data_Opcao_MEI'] = df_simples['Data_Opcao_MEI'].replace([\"00000000\"], None)\r\n",
    "df_simples['Data_Exclusao_MEI'] = df_simples['Data_Exclusao_MEI'].replace([\"00000000\"], None)"
   ],
   "outputs": [],
   "metadata": {}
  },
  {
   "cell_type": "code",
   "execution_count": 18,
   "source": [
    "# df_simples['Data_Opcao_Simples'] = df_simples['Data_Opcao_Simples'].astype('datetime64')\r\n",
    "# df_simples['Data_Exclusao_Simples'] = df_simples['Data_Exclusao_Simples'].astype('datetime64')\r\n",
    "# df_simples['Data_Opcao_MEI'] = df_simples['Data_Opcao_MEI'].astype('datetime64')\r\n",
    "# df_simples['Data_Exclusao_MEI'] = df_simples['Data_Exclusao_MEI'].astype('datetime64')"
   ],
   "outputs": [],
   "metadata": {}
  },
  {
   "cell_type": "code",
   "execution_count": 19,
   "source": [
    "import gcsfs\r\n",
    "my_gs_bucket = 'dna_public_cnpj_files/parquet_files/'\r\n",
    "token_json = 'auth/dados-publicos-326316-e16540376290.json'"
   ],
   "outputs": [],
   "metadata": {}
  },
  {
   "cell_type": "code",
   "execution_count": 20,
   "source": [
    "def upload_dataframe_to_gcs(df, bucket, token, directory):\r\n",
    "  try:\r\n",
    "    df.to_parquet(f'gs://{bucket}{directory}', write_index=False, storage_options={'token': token})\r\n",
    "  except Exception as e:\r\n",
    "    raise e"
   ],
   "outputs": [],
   "metadata": {}
  },
  {
   "cell_type": "code",
   "execution_count": 21,
   "source": [
    "df_dict = {'simples': df_simples, 'cnae': df_cnae, 'municipio': df_municipio, 'nat_juridica': df_natureza, 'pais': df_pais}"
   ],
   "outputs": [],
   "metadata": {}
  },
  {
   "cell_type": "code",
   "execution_count": null,
   "source": [
    "for df in df_dict:\r\n",
    "  upload_dataframe_to_gcs(df_dict[df], my_gs_bucket, token_json, df)"
   ],
   "outputs": [],
   "metadata": {}
  },
  {
   "cell_type": "code",
   "execution_count": null,
   "source": [],
   "outputs": [],
   "metadata": {}
  }
 ],
 "metadata": {
  "orig_nbformat": 4,
  "language_info": {
   "name": "python",
   "version": "3.9.2",
   "mimetype": "text/x-python",
   "codemirror_mode": {
    "name": "ipython",
    "version": 3
   },
   "pygments_lexer": "ipython3",
   "nbconvert_exporter": "python",
   "file_extension": ".py"
  },
  "kernelspec": {
   "name": "python3",
   "display_name": "Python 3.9.2 64-bit"
  },
  "interpreter": {
   "hash": "d1678312ba1ea9aec5d2fa5e059815f637844f0d2bb281feb437b6cf7d563b2b"
  }
 },
 "nbformat": 4,
 "nbformat_minor": 2
}