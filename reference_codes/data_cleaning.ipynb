{
 "cells": [
  {
   "cell_type": "code",
   "execution_count": 1,
   "source": [
    "import dask.dataframe as dd\r\n",
    "import pandas as pd\r\n",
    "\r\n",
    "path_files = \"data/raw/\"\r\n",
    "\r\n",
    "# Define os nomes das colunas das tabelas\r\n",
    "col_empresas = [\"CNPJ\", \"Razao_Social\", \"Natureza_Juridica\", \"Qualificacao_do_Responsavel\", \"Capital_Social\", \"Porte\", \"Ente_Federativo_Responsavel\"]\r\n",
    "col_estabelecimentos = [\"CNPJ_Basico\", \"CNPJ_Ordem\", \"CNPJ_DV\", \"Identificador\", \"Nome_Fantasia\", \"Situacao_Cadastral\", \"Data_Situacao_Cadastral\", \r\n",
    "                        \"Motivo_Situacao_Cadastral\", \"Nome_Cidade_Exterior\", \"Pais\", \"Data_Inicio_Atividade\", \"CNAE_Fiscal_Principal\", \"CNAE_Fiscal_Secundaria\",\r\n",
    "                        \"Tipo_Logradouro\", \"Logradouro\", \"Numero\", \"Complemento\", \"Bairro\", \"CEP\", \"UF\", \"Municipio\", \"DDD_1\", \"Telefone_1\", \"DDD_2\", \"Telefone_2\", \r\n",
    "                        \"DDD_Fax\", \"Fax\", \"Correio_Eletronico\", \"Situacao_Especial\", \"Data_Situacao_Especial\"]"
   ],
   "outputs": [],
   "metadata": {}
  },
  {
   "cell_type": "markdown",
   "source": [
    "# Tratamento dos arquivos de Empresas\r\n",
    "## Adicionando arquivos ao DataFrame"
   ],
   "metadata": {}
  },
  {
   "cell_type": "code",
   "execution_count": 11,
   "source": [
    "# Lê todos os arquivos passados como parâmetro, utilizando o dask\r\n",
    "df_empresa = dd.read_csv(f'{path_files}*.EMPRECSV.zip', delimiter=';', encoding='latin1', low_memory=False, dtype=str, names=col_empresas, blocksize=None)"
   ],
   "outputs": [],
   "metadata": {}
  },
  {
   "cell_type": "markdown",
   "source": [
    "## Tratamento da coluna Capital Social"
   ],
   "metadata": {}
  },
  {
   "cell_type": "code",
   "execution_count": 12,
   "source": [
    "df_empresa['Capital_Social'] = df_empresa['Capital_Social'].map(lambda x: x.replace(',','.'))\r\n",
    "df_empresa['Capital_Social'] = dd.to_numeric(df_empresa['Capital_Social'], errors='coerce')"
   ],
   "outputs": [],
   "metadata": {}
  },
  {
   "cell_type": "markdown",
   "source": [
    "## Preenchendo os valores NA da coluna Porte com 01 = Não informado"
   ],
   "metadata": {}
  },
  {
   "cell_type": "code",
   "execution_count": 13,
   "source": [
    "df_empresa['Porte'] = df_empresa['Porte'].fillna(value='01')"
   ],
   "outputs": [],
   "metadata": {}
  },
  {
   "cell_type": "markdown",
   "source": [
    "# Manipulação dos dados de Estabelecimentos"
   ],
   "metadata": {}
  },
  {
   "cell_type": "code",
   "execution_count": 2,
   "source": [
    "df_estab = dd.read_csv(f'{path_files}*.ESTABELE.zip', delimiter=';', encoding='latin1', dtype=str, low_memory=False, names=col_estabelecimentos, blocksize=None)"
   ],
   "outputs": [],
   "metadata": {}
  },
  {
   "cell_type": "code",
   "execution_count": 5,
   "source": [
    "df_estab['Data_Situacao_Cadastral'] = df_estab['Data_Situacao_Cadastral'].astype('datetime64')\r\n",
    "df_estab['Data_Inicio_Atividade'] = df_estab['Data_Inicio_Atividade'].astype('datetime64')\r\n"
   ],
   "outputs": [],
   "metadata": {}
  },
  {
   "cell_type": "markdown",
   "source": [
    "## Altera para 999 os valores nulos da coluna País"
   ],
   "metadata": {}
  },
  {
   "cell_type": "code",
   "execution_count": 15,
   "source": [
    "df_estab['Pais'] = df_estab['Pais'].fillna(value='999')"
   ],
   "outputs": [],
   "metadata": {}
  },
  {
   "cell_type": "markdown",
   "source": [
    "## Substitui os valores 0 do campo Data Situação Cadastral pelo valor do campo Data Inicio Atividade"
   ],
   "metadata": {}
  },
  {
   "cell_type": "code",
   "execution_count": null,
   "source": [
    "df_estab['Data_Situacao_Cadastral'] = df_estab['Data_Situacao_Cadastral'].mask((df_estab['Data_Situacao_Cadastral'] == '0'), df_estab['Data_Inicio_Atividade'])"
   ],
   "outputs": [],
   "metadata": {}
  },
  {
   "cell_type": "markdown",
   "source": [
    "## Adicionando a coluna CNPJ concatenando as informações do CNPJ Basico, CNPJ Ordem e CNPJ DV"
   ],
   "metadata": {}
  },
  {
   "cell_type": "code",
   "execution_count": 18,
   "source": [
    "cnpjs = (df_estab[\"CNPJ_Basico\"].astype(str).apply(lambda x: x.zfill(8), meta=('CNPJ_Basico', str)) + \r\n",
    "        df_estab[\"CNPJ_Ordem\"].astype(str).apply(lambda x: x.zfill(4), meta=('CNPJ_Ordem', str)) + \r\n",
    "        df_estab[\"CNPJ_DV\"].astype(str).apply(lambda x: x.zfill(2), meta=('CNPJ_DV', str)))\r\n",
    "\r\n",
    "df_estab['CNPJ'] = cnpjs"
   ],
   "outputs": [],
   "metadata": {}
  },
  {
   "cell_type": "markdown",
   "source": [
    "# Salvando em parquet no Google Cloud Storage"
   ],
   "metadata": {}
  },
  {
   "cell_type": "code",
   "execution_count": 19,
   "source": [
    "import gcsfs\r\n",
    "my_gs_bucket = 'dna_public_cnpj_files/parquet_files/'\r\n",
    "token_json = 'auth/dados-publicos-326316-e16540376290.json'"
   ],
   "outputs": [],
   "metadata": {}
  },
  {
   "cell_type": "code",
   "execution_count": 20,
   "source": [
    "def upload_dataframe_to_gcs(df, bucket, token, directory):\r\n",
    "  try:\r\n",
    "    df.to_parquet(f'gs://{bucket}{directory}', write_index=False, storage_options={'token': token})\r\n",
    "  except Exception as e:\r\n",
    "    raise e"
   ],
   "outputs": [],
   "metadata": {}
  },
  {
   "cell_type": "code",
   "execution_count": 21,
   "source": [
    "df_estab = df_estab.repartition(npartitions=150)\r\n",
    "df_dict = {'empresa': df_empresa, 'estabelecimento': df_estab}"
   ],
   "outputs": [],
   "metadata": {}
  },
  {
   "cell_type": "code",
   "execution_count": null,
   "source": [
    "# for df in df_dict:\r\n",
    "#   upload_dataframe_to_gcs(df_dict[df], my_gs_bucket, token_json, df)"
   ],
   "outputs": [],
   "metadata": {}
  },
  {
   "cell_type": "code",
   "execution_count": null,
   "source": [],
   "outputs": [],
   "metadata": {}
  }
 ],
 "metadata": {
  "orig_nbformat": 4,
  "language_info": {
   "name": "python",
   "version": "3.9.2",
   "mimetype": "text/x-python",
   "codemirror_mode": {
    "name": "ipython",
    "version": 3
   },
   "pygments_lexer": "ipython3",
   "nbconvert_exporter": "python",
   "file_extension": ".py"
  },
  "kernelspec": {
   "name": "python3",
   "display_name": "Python 3.9.2 64-bit"
  },
  "interpreter": {
   "hash": "d1678312ba1ea9aec5d2fa5e059815f637844f0d2bb281feb437b6cf7d563b2b"
  }
 },
 "nbformat": 4,
 "nbformat_minor": 2
}